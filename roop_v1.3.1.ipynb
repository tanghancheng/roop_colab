{
  "cells": [
    {
      "cell_type": "markdown",
      "metadata": {
        "id": "glwNVbldZ1Id"
      },
      "source": [
        "##一张图片，一个视频，一键换脸！\n",
        "\n",
        "[![打开](https://colab.research.google.com/assets/colab-badge.svg)](https://colab.research.google.com/github/dream80/roop_colab/blob/main/roop_v1.3.1.ipynb)\n",
        "\n",
        "基于[roop](https://github.com/s0md3v/roop)项目的一个脚本你，可以进行图片换脸，也可以视频换脸。可以自定义参数。  \n",
        "\n",
        "特点：就是快捷方便，没有其他。  \n",
        "更新：NSFW封印已经解除，剔除了没什么鸟用的但是很烦人的TF。\n",
        "\n",
        "如果要高质量换脸还是推荐DeepFaclab[教程](https://www.deepfaker.xyz/)\n",
        "\n",
        "脚本仅供学习研究，请勿用于任何非法用途！\n",
        "\n",
        "使用教程：https://www.tonyisstark.com/1240.html  \n",
        "离线版本：https://www.tonyisstark.com/1311.html\n",
        "\n",
        "公众号：托尼不是塔克  \n",
        "博客：[tonyisstark.com](https://www.tonyisstark.com/)"
      ]
    },
    {
      "cell_type": "code",
      "execution_count": null,
      "metadata": {
        "id": "ZqdQ95WTKCSQ"
      },
      "outputs": [],
      "source": [
        "#@title 1.克隆源代码\n",
        "!git clone https://github.com/tanghancheng/roop_colab.git\n"
      ]
    },
    {
      "cell_type": "code",
      "execution_count": null,
      "metadata": {
        "id": "FnSwYDX5K1P2",
        "cellView": "form"
      },
      "outputs": [],
      "source": [
        "#@title 2.进入项目\n",
        "%cd /content/roop_colab/roop/"
      ]
    },
    {
      "cell_type": "code",
      "execution_count": null,
      "metadata": {
        "id": "f6urrvLGKqcU",
        "cellView": "form"
      },
      "outputs": [],
      "source": [
        "#@title 3.安装依赖\n",
        "#有红色警告不用担心！\n",
        "%cd /content/roop_colab/roop/\n",
        "\n",
        "!pip install -r requirements.txt\n",
        "!pip install torch==2.0.1+cu118 torchvision==0.15.2+cu118 --index-url https://download.pytorch.org/whl/cu118\n",
        "!pip install onnxruntime-gpu==1.22.0\n"
      ]
    },
    {
      "cell_type": "code",
      "execution_count": null,
      "metadata": {
        "cellView": "form",
        "id": "JXUkjpNpz2pc"
      },
      "outputs": [],
      "source": [
        "#@title 4.准备素材\n",
        "source = \"/content/roop_colab/1.jpg\" #@param {type:\"string\"}\n",
        "target = \"/content/roop_colab/2.mp4\" #@param {type:\"string\"}\n",
        "output = \"/content/roop_colab/out.mp4\" #@param {type:\"string\"}"
      ]
    },
    {
      "cell_type": "markdown",
      "metadata": {
        "id": "vW_Ovjjq8Qv8"
      },
      "source": [
        "source : 源素素材路径，包含人脸的图片  \n",
        "\n",
        "target : 目标图片或者视频路径，也要包含人脸  \n",
        "\n",
        "output : 输出路径，如果targe是图片，这里也改成图片后缀  \n"
      ]
    },
    {
      "cell_type": "code",
      "execution_count": null,
      "metadata": {
        "cellView": "form",
        "id": "cMJi9bI3LUyX"
      },
      "outputs": [],
      "source": [
        "#@title 5.开始换脸\n",
        "\n",
        "%cd /content/roop_colab/roop/\n",
        "\n",
        "Device = \"cuda\" #@param [\"cuda\", \"cpu\"]\n",
        "\n",
        "Processor = \"face_swapper face_enhancer\" #@param [\"face_swapper face_enhancer\", \"face_swapper\",\"face_enhancer\"]\n",
        "\n",
        "VideoEncoder = \"libx264\" #@param ['libx264', 'libx265', 'libvpx-vp9', 'h264_nvenc', 'hevc_nvenc']\n",
        "\n",
        "VideoQuality = \"35\" #@param {type:\"string\"}\n",
        "\n",
        "TempFormat = \"jpg\" #@param [\"jpg\", \"png\"]\n",
        "\n",
        "TempQuality = \"0\" #@param {type:\"string\"}\n",
        "\n",
        "\n",
        "KeepFPS = True #@param {type:\"boolean\"}\n",
        "SkipAudio = False #@param {type:\"boolean\"}\n",
        "KeepFrames = False #@param {type:\"boolean\"}\n",
        "ManyFaces = False #@param {type:\"boolean\"}\n",
        "\n",
        "\n",
        "KeepFPS =\"--keep-fps\" if KeepFPS==True else \"\"\n",
        "SkipAudio =\"--skip-audio\" if SkipAudio==True else \"\"\n",
        "KeepFrames =\"--keep-frames\" if KeepFrames==True else \"\"\n",
        "ManyFaces =\"--many-faces\" if ManyFaces==True else \"\"\n",
        "\n",
        "\n",
        "\n",
        "cmd = f\"run.py --execution-provider {Device} -s {source} -t {target} -o {output} --frame-processor {Processor} --output-video-encoder {VideoEncoder} --output-video-quality {VideoQuality} {KeepFPS} {SkipAudio} {KeepFrames} {ManyFaces} --temp-frame-format {TempFormat} --temp-frame-quality {TempQuality}\"\n",
        "print(\"cmd:\"+cmd)\n",
        "\n",
        "\n",
        "# 创建models目录（如果不存在）\n",
        "!mkdir -p models\n",
        "\n",
        "# 下载inswapper_128.onnx（如果不存在）\n",
        "!if [ ! -f \"models/inswapper_128.onnx\" ]; then \\\n",
        "  echo \"Downloading inswapper_128.onnx...\"; \\\n",
        "  wget https://github.com/dream80/roop_colab/releases/download/v0.0.1/inswapper_128.onnx && \\\n",
        "  mv inswapper_128.onnx models/; \\\n",
        "else \\\n",
        "  echo \"inswapper_128.onnx already exists, skipping download.\"; \\\n",
        "fi\n",
        "\n",
        "# 下载GFPGANv1.4.pth（如果不存在）\n",
        "!if [ ! -f \"models/GFPGANv1.4.pth\" ]; then \\\n",
        "  echo \"Downloading GFPGANv1.4.pth...\"; \\\n",
        "  wget https://github.com/TencentARC/GFPGAN/releases/download/v1.3.4/GFPGANv1.4.pth && \\\n",
        "  mv GFPGANv1.4.pth models/; \\\n",
        "else \\\n",
        "  echo \"GFPGANv1.4.pth already exists, skipping download.\"; \\\n",
        "fi\n",
        "\n",
        "!python $cmd\n"
      ]
    },
    {
      "cell_type": "markdown",
      "metadata": {
        "id": "iOOzIywkxw9o"
      },
      "source": [
        "Device : 选CUDA就是使用GPU，选CPU就用CPU，如果你GPU配额用完了，可以用CPU顶一下。或者开Pro  \n",
        "\n",
        "Precessor : 选择换脸还是人脸修复，默认全部启用，也可以单独使用一个功能。  \n",
        "\n",
        "VideoEncoder : 视频编码器选择，一般用libx264。  \n",
        "\n",
        "VideoQuality : 视频质量，默认35，取值范围0-100  \n",
        "\n",
        "TempFormat ： 缓存帧格式，可以使jpg或者png  \n",
        "\n",
        "TempQuality ： 视频质量，默认0，取值范围0-100  \n",
        "\n",
        "KeepFPS : 保持帧率不变  \n",
        "\n",
        "SkipAudio ： 丢弃音轨   \n",
        "\n",
        "KeepFrames ： 保留分帧后的图片  \n",
        "\n",
        "ManyFaces ： 替换所有人脸"
      ]
    },
    {
      "cell_type": "markdown",
      "metadata": {
        "id": "P_cIVG84cTX3"
      },
      "source": [
        "#补充说明\n",
        "\n",
        "  \n"
      ]
    },
    {
      "cell_type": "markdown",
      "metadata": {
        "id": "O8qkUHNNw8-z"
      },
      "source": [
        "\n",
        "## 视频文件在哪里？  \n",
        "\n",
        "换脸成功后的视频保存在roop_colab文件里面  \n"
      ]
    },
    {
      "cell_type": "markdown",
      "metadata": {
        "id": "pl3m7Ymmw3A8"
      },
      "source": [
        "## 如何使用自己的素材？  \n",
        "\n",
        "如果要替换图片和视频，只需要在左边的文件管理里面右键上传，然后改一下名字就可以。了。  \n",
        "素材文件都在roop_colab文件中   \n",
        "1.jpg：换脸图片  \n",
        "2.mp4：换脸视频  \n",
        "out.mp4：是换脸后的视频  \n",
        "\n",
        "点击左侧文件，找到MP4,右键可以下载！\n",
        "\n"
      ]
    },
    {
      "cell_type": "markdown",
      "metadata": {
        "id": "kUXiEHjCxMpt"
      },
      "source": [
        "## 解除NSFW封印\n",
        "\n",
        "\n",
        "已经默认解除封印！  \n",
        "\n"
      ]
    },
    {
      "cell_type": "markdown",
      "metadata": {
        "id": "klzSfQPfwSNV"
      },
      "source": [
        "\n",
        "## 大文件处理\n",
        "\n",
        "如果文件比较大，直接在Colab上传会有难度，可以先传到谷歌云盘。然后挂载云盘就可以了，修改一下第五步里面图片和视频的地址就可以了。挂载谷歌盘之后也可以把输出文件直接指向云盘。\n",
        "\n",
        "如何需要使用谷歌云盘的文件，可以点击这个脚本，挂载云盘。\n",
        "\n",
        "from google.colab import drive  \n",
        "drive.mount('/content/drive')"
      ]
    }
  ],
  "metadata": {
    "accelerator": "GPU",
    "colab": {
      "collapsed_sections": [
        "klzSfQPfwSNV"
      ],
      "gpuType": "T4",
      "machine_shape": "hm",
      "provenance": []
    },
    "kernelspec": {
      "display_name": "Python 3",
      "name": "python3"
    },
    "language_info": {
      "name": "python"
    }
  },
  "nbformat": 4,
  "nbformat_minor": 0
}
